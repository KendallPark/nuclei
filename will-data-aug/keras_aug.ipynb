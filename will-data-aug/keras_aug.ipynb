{
 "cells": [
  {
   "cell_type": "code",
   "execution_count": null,
   "metadata": {},
   "outputs": [],
   "source": [
    "# affine only\n",
    "aug = iaa.SomeOf((0, 2), [\n",
    "        iaa.Affine(scale={\"x\": (0.8, 1.2), \"y\": (0.8, 1.2)}),\n",
    "        iaa.Affine(translate_px={\"x\": (-15, 15), \"y\": (-15, 15)}),\n",
    "        iaa.Affine(rotate=(-45, 45)),\n",
    "        iaa.Affine(shear=(-20, 20)),\n",
    "    ])"
   ]
  },
  {
   "cell_type": "code",
   "execution_count": null,
   "metadata": {},
   "outputs": [],
   "source": [
    "aug = iaa.SomeOf((0, 3), [\n",
    "        iaa.Fliplr(0.5), # horizontal flip\n",
    "        iaa.Flipud(0.5), # vertical flip\n",
    "        iaa.CropAndPad( # randomly crop up to 10 percent\n",
    "            percent=(0, 0.1), \n",
    "            pad_mode=[\"constant\", \"edge\"], # use constant value or closest edge pixel\n",
    "            pad_cval=(0, 256)\n",
    "        ),\n",
    "        iaa.Affine(scale={\"x\": (0.8, 1.2), \"y\": (0.8, 1.2)}),\n",
    "        iaa.Affine(translate_px={\"x\": (-15, 15), \"y\": (-15, 15)}),\n",
    "        iaa.Affine(rotate=(-45, 45)),\n",
    "        iaa.Affine(shear=(-20, 20)),\n",
    "        iaa.Multiply((0.5, 1.5), per_channel=0.5), # lighten or darken\n",
    "        iaa.GaussianBlur(sigma=(0.0, 2.0)),\n",
    "    ])"
   ]
  },
  {
   "cell_type": "code",
   "execution_count": null,
   "metadata": {},
   "outputs": [],
   "source": [
    "aug = iaa.SomeOf((0, 3), [\n",
    "        iaa.Fliplr(0.5), # horizontal flip\n",
    "        iaa.Flipud(0.5), # vertical flip\n",
    "        iaa.CropAndPad( # randomly crop up to 10 percent\n",
    "            percent=(0, 0.1), \n",
    "            pad_mode=[\"constant\", \"edge\"], # use constant value or closest edge pixel\n",
    "            pad_cval=(0, 256)\n",
    "        ),\n",
    "        iaa.OneOf([iaa.Affine(rotate=90),\n",
    "            iaa.Affine(rotate=180),\n",
    "            iaa.Affine(rotate=270)]),\n",
    "        iaa.Multiply((0.5, 1.5), per_channel=0.5), # lighten or darken\n",
    "        iaa.Noop(),  # does nothing\n",
    "        iaa.OneOf([ iaa.AdditiveGaussianNoise(scale=0.05*255),\n",
    "            iaa.GaussianBlur(sigma=(0.0, 2.0)),\n",
    "            iaa.Add((-20, 20), per_channel=0.5)]),  # change up pixels\n",
    "    ])"
   ]
  },
  {
   "cell_type": "code",
   "execution_count": null,
   "metadata": {},
   "outputs": [],
   "source": [
    "from keras.preprocessing.image import ImageDataGenerator\n",
    "datagen = ImageDataGenerator()\n",
    "data_gen_args = dict(rotation_range=90.,\n",
    "                         width_shift_range=0.1,\n",
    "                         height_shift_range=0.1,\n",
    "                         shear_range=0.2,\n",
    "                         zoom_range=0.2,\n",
    "                         fill_mode='constant',\n",
    "                         horizontal_flip=True,\n",
    "                         vertical_flip=True,\n",
    "                        )"
   ]
  }
 ],
 "metadata": {
  "kernelspec": {
   "display_name": "Python 3",
   "language": "python",
   "name": "python3"
  },
  "language_info": {
   "codemirror_mode": {
    "name": "ipython",
    "version": 3
   },
   "file_extension": ".py",
   "mimetype": "text/x-python",
   "name": "python",
   "nbconvert_exporter": "python",
   "pygments_lexer": "ipython3",
   "version": "3.6.0"
  }
 },
 "nbformat": 4,
 "nbformat_minor": 2
}
