{
 "cells": [
  {
   "cell_type": "code",
   "execution_count": 6,
   "metadata": {},
   "outputs": [],
   "source": [
    "import os\n",
    "# file paths\n",
    "directory = os.getcwd()\n",
    "DATA_DIR = os.path.abspath(\"../data\")\n",
    "TRAIN_PATH = os.path.join(DATA_DIR, 'stage1_train')\n",
    "TEST_PATH = os.path.join(DATA_DIR, 'stage1_test')\n",
    "INPUT_PATH = os.path.join(directory, 'input')"
   ]
  },
  {
   "cell_type": "code",
   "execution_count": 20,
   "metadata": {},
   "outputs": [],
   "source": [
    "import skimage.io\n",
    "import numpy as np\n",
    "def read_image_labels(image_id):\n",
    "    image_file = os.path.join(TRAIN_PATH, \"{}\", \"images\", \"{}.png\").format(image_id, image_id)\n",
    "    mask_file = os.path.join(TRAIN_PATH,  \"{}\", \"masks\", \"*.png\").format(image_id)\n",
    "    image = skimage.io.imread(image_file)\n",
    "    masks = skimage.io.imread_collection(mask_file).concatenate()\n",
    "    height, width, _ = image.shape\n",
    "    num_masks = masks.shape[0]\n",
    "    labels = np.zeros((height, width), np.uint16)\n",
    "    for index in range(0, num_masks):\n",
    "        labels[masks[index] > 0] = index + 1\n",
    "    return image, labels"
   ]
  },
  {
   "cell_type": "code",
   "execution_count": 25,
   "metadata": {},
   "outputs": [],
   "source": [
    "from skimage import transform\n",
    "def data_aug(image, label, angle=30, resize_rate=0.9):\n",
    "    flip = random.randint(0, 1)\n",
    "    size = image.shape[0]\n",
    "    rsize = random.randint(np.floor(resize_rate*size),size)\n",
    "    w_s = random.randint(0,size - rsize)\n",
    "    h_s = random.randint(0,size - rsize)\n",
    "    sh = random.random()/2-0.25\n",
    "    rotate_angle = random.random()/180*np.pi*angle\n",
    "    # Create Affine transform\n",
    "    affine_tf = transform.AffineTransform(shear=sh, rotation=rotate_angle)\n",
    "    # Apply transform to image data\n",
    "    image = transform.warp(image, inverse_map=affine_tf, mode='edge')\n",
    "    label = transform.warp(label, inverse_map=affine_tf, mode='edge')\n",
    "    # Randomly cropping image frame\n",
    "    image = image[w_s:w_s+size, h_s:h_s+size, :]\n",
    "    label = label[w_s:w_s+size, h_s:h_s+size]\n",
    "    # Randomly flip frame\n",
    "    if flip:\n",
    "        image = image[:, ::-1, :]\n",
    "        label = label[:, ::-1]\n",
    "    return image, label"
   ]
  },
  {
   "cell_type": "code",
   "execution_count": null,
   "metadata": {},
   "outputs": [],
   "source": []
  }
 ],
 "metadata": {
  "kernelspec": {
   "display_name": "Python 3",
   "language": "python",
   "name": "python3"
  },
  "language_info": {
   "codemirror_mode": {
    "name": "ipython",
    "version": 3
   },
   "file_extension": ".py",
   "mimetype": "text/x-python",
   "name": "python",
   "nbconvert_exporter": "python",
   "pygments_lexer": "ipython3",
   "version": "3.6.0"
  }
 },
 "nbformat": 4,
 "nbformat_minor": 2
}
